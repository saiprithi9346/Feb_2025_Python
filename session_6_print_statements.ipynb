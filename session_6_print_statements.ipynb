{
 "cells": [
  {
   "cell_type": "code",
   "execution_count": 1,
   "id": "3fb13846-ef3e-4f39-b4e3-9a928cab8f02",
   "metadata": {},
   "outputs": [
    {
     "data": {
      "text/plain": [
       "20"
      ]
     },
     "execution_count": 1,
     "metadata": {},
     "output_type": "execute_result"
    }
   ],
   "source": [
    "a=10\n",
    "b=20\n",
    "a\n",
    "b"
   ]
  },
  {
   "cell_type": "code",
   "execution_count": 2,
   "id": "e5cfc0b7-14f7-438c-a92c-f5139b9b04e3",
   "metadata": {},
   "outputs": [
    {
     "name": "stdout",
     "output_type": "stream",
     "text": [
      "10\n",
      "20\n"
     ]
    }
   ],
   "source": [
    "a=10\n",
    "b=20\n",
    "print(a)\n",
    "print(b)"
   ]
  },
  {
   "cell_type": "code",
   "execution_count": 3,
   "id": "b478fc0b-c221-4b70-b77c-1d707ddfc774",
   "metadata": {},
   "outputs": [
    {
     "name": "stdout",
     "output_type": "stream",
     "text": [
      "10\n",
      "20\n"
     ]
    }
   ],
   "source": [
    "print(10)\n",
    "print(20)"
   ]
  },
  {
   "cell_type": "code",
   "execution_count": 4,
   "id": "878701c0-a3a6-4238-9994-a90499af5313",
   "metadata": {},
   "outputs": [
    {
     "name": "stdout",
     "output_type": "stream",
     "text": [
      "10\n",
      "20\n"
     ]
    },
    {
     "data": {
      "text/plain": [
       "(None, None)"
      ]
     },
     "execution_count": 4,
     "metadata": {},
     "output_type": "execute_result"
    }
   ],
   "source": [
    "print(10),print(20)"
   ]
  },
  {
   "cell_type": "code",
   "execution_count": 5,
   "id": "ee519aa1-18fd-41f7-8401-e4921a797fb1",
   "metadata": {},
   "outputs": [
    {
     "data": {
      "text/plain": [
       "(10, 20)"
      ]
     },
     "execution_count": 5,
     "metadata": {},
     "output_type": "execute_result"
    }
   ],
   "source": [
    "10,20"
   ]
  },
  {
   "cell_type": "code",
   "execution_count": 6,
   "id": "238c93a8-f49c-469b-92ff-5862f565ed78",
   "metadata": {},
   "outputs": [
    {
     "name": "stdout",
     "output_type": "stream",
     "text": [
      "10 20\n"
     ]
    }
   ],
   "source": [
    "print(a,b)"
   ]
  },
  {
   "cell_type": "code",
   "execution_count": 7,
   "id": "75a69739-2cf9-41a2-86eb-d23b535b3dc6",
   "metadata": {},
   "outputs": [
    {
     "name": "stdout",
     "output_type": "stream",
     "text": [
      "30 Nareshit Hyd\n"
     ]
    }
   ],
   "source": [
    "print(30,'Nareshit','Hyd')\n",
    "# 3values "
   ]
  },
  {
   "cell_type": "code",
   "execution_count": 8,
   "id": "6b42b13d-591f-48ab-be7b-fdbcb25bf13b",
   "metadata": {},
   "outputs": [
    {
     "name": "stdout",
     "output_type": "stream",
     "text": [
      "the addition of 100 and 200 is 300\n",
      "the addition of num1 and num2 is 300\n",
      "the addition of 1000 and 200 is 1200\n"
     ]
    }
   ],
   "source": [
    "num1=1000\n",
    "num2=200\n",
    "add=num1+num2\n",
    "# the addition of 100 and 200 is 300\n",
    "print(\"the addition of 100 and 200 is 300\")\n",
    "print(\"the addition of num1 and num2 is 300\")\n",
    "print(\"the addition of\",num1,\"and\",num2,\"is\",add)"
   ]
  },
  {
   "cell_type": "code",
   "execution_count": 9,
   "id": "64f0bea2-ae33-4832-ad7d-86b5ee36b3bb",
   "metadata": {},
   "outputs": [
    {
     "name": "stdout",
     "output_type": "stream",
     "text": [
      "my name is python im 10 years old and came from hyd\n",
      "my name is name im age years old and came from city\n",
      "my name is python im 10 years old and came from hyd\n"
     ]
    }
   ],
   "source": [
    "name=\"python\"\n",
    "age=10\n",
    "city=\"hyd\"\n",
    "# my name is python im 10 years old and came from hyd\n",
    "print(\"my name is python im 10 years old and came from hyd\")\n",
    "print(\"my name is name im age years old and came from city\")\n",
    "print(\"my name is\",name,\"im\",age,\"years old and came from\",city)"
   ]
  },
  {
   "cell_type": "code",
   "execution_count": 10,
   "id": "fc066984-62cc-4851-b9c5-df7c04cf9177",
   "metadata": {},
   "outputs": [
    {
     "name": "stdout",
     "output_type": "stream",
     "text": [
      "my name is python im 10 years old and came from hyd\n"
     ]
    }
   ],
   "source": [
    "name=\"python\"\n",
    "age=10\n",
    "city=\"hyd\"\n",
    "print(\"my name is {} im {} years old and came from {}\".format(name,age,city))"
   ]
  },
  {
   "cell_type": "code",
   "execution_count": 11,
   "id": "24273d7e-9301-4e82-9a5a-b572c679f5ff",
   "metadata": {},
   "outputs": [
    {
     "name": "stdout",
     "output_type": "stream",
     "text": [
      "my name is hyd im 10 years old and came from python\n"
     ]
    }
   ],
   "source": [
    "name=\"python\"\n",
    "age=10\n",
    "city=\"hyd\"\n",
    "print(\"my name is {} im {} years old and came from {}\".format(city,age,name))"
   ]
  },
  {
   "cell_type": "code",
   "execution_count": 12,
   "id": "76dc4a43-7407-440c-8d43-621eb169e374",
   "metadata": {},
   "outputs": [
    {
     "name": "stdout",
     "output_type": "stream",
     "text": [
      "the addition of 100 and 200 is 300\n",
      "the addition of 1000 and 200 is 1200\n"
     ]
    }
   ],
   "source": [
    "num1=1000\n",
    "num2=200\n",
    "add=num1+num2\n",
    "# the addition of 100 and 200 is 300\n",
    "print(\"the addition of 100 and 200 is 300\")\n",
    "print(\"the addition of {} and {} is {}\".format(num1,num2,add))"
   ]
  },
  {
   "cell_type": "code",
   "execution_count": null,
   "id": "2d20410b-9cb8-4674-a2b8-050a87b27c63",
   "metadata": {},
   "outputs": [],
   "source": [
    "# wap take two numbers perform the\n",
    "# subtraction\n",
    "# multiplication\n",
    "# division\n",
    "# print the statements as follows\n",
    "\n",
    "# the subtraction of 100 and 200 is -100\n",
    "# the multiplication of 100 and 200 is 20000\n",
    "# the division of 100 and 200 is 0.5"
   ]
  },
  {
   "cell_type": "code",
   "execution_count": 13,
   "id": "e5d5f351-52db-42a2-b932-9d49a7117635",
   "metadata": {},
   "outputs": [],
   "source": [
    "# wap take three number perform the avearage\n",
    "# a,b,c \n",
    "# avg= (a+b+c)/3\n",
    "# print the statement\n",
    "# the avge of a,b,c is : avg"
   ]
  },
  {
   "cell_type": "markdown",
   "id": "ec10f50f-8ef3-44ae-8e61-705f7c4dd665",
   "metadata": {},
   "source": [
    "**mistake1**"
   ]
  },
  {
   "cell_type": "code",
   "execution_count": 15,
   "id": "6c870c67-0c23-4018-b63b-ff00cc2bdc4e",
   "metadata": {},
   "outputs": [
    {
     "ename": "TypeError",
     "evalue": "'sub' is an invalid keyword argument for print()",
     "output_type": "error",
     "traceback": [
      "\u001b[1;31m---------------------------------------------------------------------------\u001b[0m",
      "\u001b[1;31mTypeError\u001b[0m                                 Traceback (most recent call last)",
      "Cell \u001b[1;32mIn[15], line 3\u001b[0m\n\u001b[0;32m      1\u001b[0m num1\u001b[38;5;241m=\u001b[39m\u001b[38;5;241m100\u001b[39m\n\u001b[0;32m      2\u001b[0m num2\u001b[38;5;241m=\u001b[39m\u001b[38;5;241m200\u001b[39m\n\u001b[1;32m----> 3\u001b[0m \u001b[38;5;28mprint\u001b[39m(sub\u001b[38;5;241m=\u001b[39mnum1\u001b[38;5;241m-\u001b[39mnum2)\n",
      "\u001b[1;31mTypeError\u001b[0m: 'sub' is an invalid keyword argument for print()"
     ]
    }
   ],
   "source": [
    "num1=100\n",
    "num2=200\n",
    "print(sub=num1-num2)\n",
    "# print is used for to see the output"
   ]
  },
  {
   "cell_type": "markdown",
   "id": "8fa6ad02-3501-4033-9fc2-956eab625600",
   "metadata": {},
   "source": [
    "**mistake2**"
   ]
  },
  {
   "cell_type": "code",
   "execution_count": 19,
   "id": "671dc6d1-6a71-4dd5-b1da-4ac199435fd3",
   "metadata": {},
   "outputs": [
    {
     "name": "stdout",
     "output_type": "stream",
     "text": [
      "the subtraction of num1 and num2 is sub.format(sub)\n"
     ]
    }
   ],
   "source": [
    "num1=100\n",
    "num2=200\n",
    "sub=num1-num2\n",
    "print(\"the subtraction of num1 and num2 is sub.format\")"
   ]
  },
  {
   "cell_type": "code",
   "execution_count": 20,
   "id": "8182a2fd-c634-4209-936a-e89060236fe0",
   "metadata": {},
   "outputs": [
    {
     "name": "stdout",
     "output_type": "stream",
     "text": [
      "the subtraction of num1 and num2 is sub\n",
      "the subtraction of 100 and 200 is -100\n"
     ]
    }
   ],
   "source": [
    "num1=100\n",
    "num2=200\n",
    "sub=num1-num2\n",
    "print(\"the subtraction of num1 and num2 is sub\")\n",
    "print(\"the subtraction of {} and {} is {}\".format(num1,num2,sub))"
   ]
  },
  {
   "cell_type": "code",
   "execution_count": 21,
   "id": "97caa8c7-3241-4e00-b0f3-22ce9b2f7766",
   "metadata": {},
   "outputs": [
    {
     "name": "stdout",
     "output_type": "stream",
     "text": [
      "the multiplication of num1 and num2 is mul\n",
      "the multiplication of 100 and 200 is 20000\n"
     ]
    }
   ],
   "source": [
    "num1=100\n",
    "num2=200\n",
    "mul=num1*num2\n",
    "print(\"the multiplication of num1 and num2 is mul\")\n",
    "print(\"the multiplication of {} and {} is {}\".format(num1,num2,mul))"
   ]
  },
  {
   "cell_type": "code",
   "execution_count": 22,
   "id": "fb5fdb13-f9a3-4290-83ad-ffbb01550412",
   "metadata": {},
   "outputs": [
    {
     "name": "stdout",
     "output_type": "stream",
     "text": [
      "the division of num1 and num2 is div\n",
      "the division of 100 and 200 is 0.5\n"
     ]
    }
   ],
   "source": [
    "num1=100\n",
    "num2=200\n",
    "div=num1/num2\n",
    "print(\"the division of num1 and num2 is div\")\n",
    "print(\"the division of {} and {} is {}\".format(num1,num2,div))"
   ]
  },
  {
   "cell_type": "code",
   "execution_count": 23,
   "id": "a13873bf-e232-476f-895e-bb0040aeb1d6",
   "metadata": {},
   "outputs": [
    {
     "name": "stdout",
     "output_type": "stream",
     "text": [
      "the average of a,b,c is : avg\n",
      "the average of 10,20,30 is : 20.0\n"
     ]
    }
   ],
   "source": [
    "a=10\n",
    "b=20\n",
    "c=30\n",
    "avg=(a+b+c)/3\n",
    "print(\"the average of a,b,c is : avg\")\n",
    "print(\"the average of {},{},{} is : {}\".format(a,b,c,avg))"
   ]
  },
  {
   "cell_type": "code",
   "execution_count": 1,
   "id": "456c2d83-ad52-42a6-9082-28095f28f8dc",
   "metadata": {},
   "outputs": [
    {
     "name": "stdout",
     "output_type": "stream",
     "text": [
      "======================ADDITION===========================\n",
      "the addition of 100 and 200 is 300\n",
      "the addition of 1000 and 200 is 1200\n",
      "========================SUBTRACTION===========================\n",
      "the subtraction of num1 and num2 is sub\n",
      "the subtraction of 100 and 200 is -100\n",
      "=======================MULTIPLICATION============================\n",
      "the division of num1 and num2 is div\n",
      "the division of 100 and 200 is 0.5\n",
      "========================DIVISION==========================\n",
      "the average of a,b,c is : avg\n",
      "the average of 10,20,30 is : 20.0\n"
     ]
    }
   ],
   "source": [
    "\n",
    "print(\"======================ADDITION===========================\")\n",
    "num1=1000\n",
    "num2=200\n",
    "add=num1+num2\n",
    "# the addition of 100 and 200 is 300\n",
    "print(\"the addition of 100 and 200 is 300\")\n",
    "print(\"the addition of {} and {} is {}\".format(num1,num2,add))\n",
    "\n",
    "print(\"========================SUBTRACTION===========================\")\n",
    "\n",
    "num1=100\n",
    "num2=200\n",
    "sub=num1-num2\n",
    "print(\"the subtraction of num1 and num2 is sub\")\n",
    "print(\"the subtraction of {} and {} is {}\".format(num1,num2,sub))\n",
    "\n",
    "\n",
    "print(\"=======================MULTIPLICATION============================\")\n",
    "\n",
    "\n",
    "num1=100\n",
    "num2=200\n",
    "div=num1/num2\n",
    "print(\"the division of num1 and num2 is div\")\n",
    "print(\"the division of {} and {} is {}\".format(num1,num2,div))\n",
    "\n",
    "\n",
    "print(\"========================DIVISION==========================\")\n",
    "\n",
    "a=10\n",
    "b=20\n",
    "c=30\n",
    "avg=(a+b+c)/3\n",
    "print(\"the average of a,b,c is : avg\")\n",
    "print(\"the average of {},{},{} is : {}\".format(a,b,c,avg))"
   ]
  },
  {
   "cell_type": "markdown",
   "id": "837f6a5b-0b20-457b-a8a3-5384aba68689",
   "metadata": {},
   "source": [
    "**f string: formatted string method**"
   ]
  },
  {
   "cell_type": "code",
   "execution_count": 2,
   "id": "78a9ed4d-20f1-49de-b7da-b559ab6d0d26",
   "metadata": {},
   "outputs": [
    {
     "name": "stdout",
     "output_type": "stream",
     "text": [
      "the addition of 100 and 200 is 300\n",
      "the addition of 1000 and 200 is 1200\n",
      "the addition of 1000 and 200 is 1200\n"
     ]
    }
   ],
   "source": [
    "num1=1000\n",
    "num2=200\n",
    "add=num1+num2\n",
    "\n",
    "print(\"the addition of 100 and 200 is 300\")\n",
    "print(\"the addition of {} and {} is {}\".format(num1,num2,add))\n",
    "print(f\"the addition of {num1} and {num2} is {add}\")"
   ]
  },
  {
   "cell_type": "code",
   "execution_count": 3,
   "id": "8f097346-1679-4844-8f08-6ef8b75af72e",
   "metadata": {},
   "outputs": [
    {
     "name": "stdout",
     "output_type": "stream",
     "text": [
      "the addition of 100 and 200 is 300\n"
     ]
    }
   ],
   "source": [
    "print(\"the addition of 100 and 200 is 300\")"
   ]
  },
  {
   "cell_type": "code",
   "execution_count": 4,
   "id": "12d96688-30ca-4788-8ecd-4c1d699c0d7a",
   "metadata": {},
   "outputs": [
    {
     "ename": "TypeError",
     "evalue": "format expected at most 2 arguments, got 3",
     "output_type": "error",
     "traceback": [
      "\u001b[1;31m---------------------------------------------------------------------------\u001b[0m",
      "\u001b[1;31mTypeError\u001b[0m                                 Traceback (most recent call last)",
      "Cell \u001b[1;32mIn[4], line 1\u001b[0m\n\u001b[1;32m----> 1\u001b[0m \u001b[38;5;28mprint\u001b[39m(\u001b[38;5;124m\"\u001b[39m\u001b[38;5;124mthe addition of \u001b[39m\u001b[38;5;132;01m{}\u001b[39;00m\u001b[38;5;124m and \u001b[39m\u001b[38;5;132;01m{}\u001b[39;00m\u001b[38;5;124m is \u001b[39m\u001b[38;5;132;01m{}\u001b[39;00m\u001b[38;5;124m\"\u001b[39m,\u001b[38;5;28mformat\u001b[39m(num1,num2,add))\n",
      "\u001b[1;31mTypeError\u001b[0m: format expected at most 2 arguments, got 3"
     ]
    }
   ],
   "source": [
    "print(\"the addition of {} and {} is {}\",format(num1,num2,add))"
   ]
  },
  {
   "cell_type": "code",
   "execution_count": 5,
   "id": "58700881-b052-4438-b57d-661a781b3eef",
   "metadata": {},
   "outputs": [
    {
     "name": "stdout",
     "output_type": "stream",
     "text": [
      "the average of a,b,c is : avg\n"
     ]
    },
    {
     "ename": "IndexError",
     "evalue": "Replacement index 3 out of range for positional args tuple",
     "output_type": "error",
     "traceback": [
      "\u001b[1;31m---------------------------------------------------------------------------\u001b[0m",
      "\u001b[1;31mIndexError\u001b[0m                                Traceback (most recent call last)",
      "Cell \u001b[1;32mIn[5], line 6\u001b[0m\n\u001b[0;32m      4\u001b[0m avg\u001b[38;5;241m=\u001b[39m(a\u001b[38;5;241m+\u001b[39mb\u001b[38;5;241m+\u001b[39mc)\u001b[38;5;241m/\u001b[39m\u001b[38;5;241m3\u001b[39m\n\u001b[0;32m      5\u001b[0m \u001b[38;5;28mprint\u001b[39m(\u001b[38;5;124m\"\u001b[39m\u001b[38;5;124mthe average of a,b,c is : avg\u001b[39m\u001b[38;5;124m\"\u001b[39m)\n\u001b[1;32m----> 6\u001b[0m \u001b[38;5;28mprint\u001b[39m(\u001b[38;5;124m\"\u001b[39m\u001b[38;5;124mthe average of \u001b[39m\u001b[38;5;132;01m{}\u001b[39;00m\u001b[38;5;124m,\u001b[39m\u001b[38;5;132;01m{}\u001b[39;00m\u001b[38;5;124m,\u001b[39m\u001b[38;5;132;01m{}\u001b[39;00m\u001b[38;5;124m is : \u001b[39m\u001b[38;5;132;01m{}\u001b[39;00m\u001b[38;5;124m\"\u001b[39m\u001b[38;5;241m.\u001b[39mformat(a,b,c))\n",
      "\u001b[1;31mIndexError\u001b[0m: Replacement index 3 out of range for positional args tuple"
     ]
    }
   ],
   "source": [
    "a=10\n",
    "b=20\n",
    "c=30\n",
    "avg=(a+b+c)/3\n",
    "print(\"the average of a,b,c is : avg\")\n",
    "print(\"the average of {},{},{} is : {}\".format(a,b,c))"
   ]
  },
  {
   "cell_type": "code",
   "execution_count": 6,
   "id": "f1651b3c-c95c-4673-b788-90b121c94de8",
   "metadata": {},
   "outputs": [
    {
     "name": "stdout",
     "output_type": "stream",
     "text": [
      "======================ADDITION===========================\n",
      "the addition of 100 and 200 is 300\n",
      "the addition of 1000 and 200 is 1200\n",
      "the addition of 1000 and 200 is 1200\n",
      "========================SUBTRACTION===========================\n",
      "the subtraction of num1 and num2 is sub\n",
      "the subtraction of 100 and 200 is -100\n",
      "the subtraction of 100 and 200 is -100\n",
      "=======================MULTIPLICATION============================\n",
      "the division of num1 and num2 is div\n",
      "the division of 100 and 200 is 0.5\n",
      "the division of 100 and 200 is 0.5\n",
      "========================DIVISION==========================\n",
      "the average of a,b,c is : avg\n",
      "the average of 10,20,30 is : 20.0\n",
      "the average of 10,20,30 is : 20.0\n"
     ]
    }
   ],
   "source": [
    "print(\"======================ADDITION===========================\")\n",
    "num1=1000\n",
    "num2=200\n",
    "add=num1+num2\n",
    "# the addition of 100 and 200 is 300\n",
    "print(\"the addition of 100 and 200 is 300\")\n",
    "print(\"the addition of {} and {} is {}\".format(num1,num2,add))\n",
    "print(f\"the addition of {num1} and {num2} is {add}\")\n",
    "\n",
    "print(\"========================SUBTRACTION===========================\")\n",
    "\n",
    "num1=100\n",
    "num2=200\n",
    "sub=num1-num2\n",
    "print(\"the subtraction of num1 and num2 is sub\")\n",
    "print(\"the subtraction of {} and {} is {}\".format(num1,num2,sub))\n",
    "print(f\"the subtraction of {num1} and {num2} is {sub}\")\n",
    "\n",
    "print(\"=======================MULTIPLICATION============================\")\n",
    "\n",
    "\n",
    "num1=100\n",
    "num2=200\n",
    "div=num1/num2\n",
    "print(\"the division of num1 and num2 is div\")\n",
    "print(\"the division of {} and {} is {}\".format(num1,num2,div))\n",
    "print(f\"the division of {num1} and {num2} is {div}\")\n",
    "\n",
    "\n",
    "print(\"========================DIVISION==========================\")\n",
    "\n",
    "a=10\n",
    "b=20\n",
    "c=30\n",
    "avg=(a+b+c)/3\n",
    "print(\"the average of a,b,c is : avg\")\n",
    "print(\"the average of {},{},{} is : {}\".format(a,b,c,avg))\n",
    "print(f\"the average of {a},{b},{c} is : {avg}\")"
   ]
  },
  {
   "cell_type": "code",
   "execution_count": 7,
   "id": "c61e4039-e046-403a-b7f7-bff13b3b22af",
   "metadata": {},
   "outputs": [
    {
     "name": "stdout",
     "output_type": "stream",
     "text": [
      "20.333333333333332\n"
     ]
    }
   ],
   "source": [
    "a=11\n",
    "b=20\n",
    "c=30\n",
    "avg=(a+b+c)/3\n",
    "print(avg)"
   ]
  },
  {
   "cell_type": "markdown",
   "id": "9223e71d-2f9a-4bd0-b761-bdff65252ff7",
   "metadata": {},
   "source": [
    "**round**"
   ]
  },
  {
   "cell_type": "code",
   "execution_count": 8,
   "id": "42be229c-60a2-4858-a1d6-38b8e6918c2f",
   "metadata": {},
   "outputs": [],
   "source": [
    "# print()\n",
    "# type()\n",
    "# int()\n",
    "# float()\n",
    "# str()\n",
    "# bool()\n",
    "# round()\n",
    "\n",
    "# CTRL+A \n",
    "# CTRL+/"
   ]
  },
  {
   "cell_type": "code",
   "execution_count": 9,
   "id": "f0ec5519-a657-43f6-ac7f-423e6992a062",
   "metadata": {},
   "outputs": [
    {
     "data": {
      "text/plain": [
       "11"
      ]
     },
     "execution_count": 9,
     "metadata": {},
     "output_type": "execute_result"
    }
   ],
   "source": [
    "round(10.77777)  # 10.7 ===> 11\n",
    "# 79.7  80"
   ]
  },
  {
   "cell_type": "code",
   "execution_count": 10,
   "id": "a6563df4-5265-419d-b097-c2933a6b56f2",
   "metadata": {},
   "outputs": [
    {
     "data": {
      "text/plain": [
       "10.78"
      ]
     },
     "execution_count": 10,
     "metadata": {},
     "output_type": "execute_result"
    }
   ],
   "source": [
    "round(10.77777,2)"
   ]
  },
  {
   "cell_type": "code",
   "execution_count": 11,
   "id": "05e71276-17e1-4e21-9232-cc47adf5af9b",
   "metadata": {},
   "outputs": [
    {
     "data": {
      "text/plain": [
       "10.778"
      ]
     },
     "execution_count": 11,
     "metadata": {},
     "output_type": "execute_result"
    }
   ],
   "source": [
    "round(10.77777,3)"
   ]
  },
  {
   "cell_type": "code",
   "execution_count": 12,
   "id": "64a41dc1-8f81-462a-bbeb-aa6970246492",
   "metadata": {},
   "outputs": [
    {
     "name": "stdout",
     "output_type": "stream",
     "text": [
      "11\n",
      "10.78\n",
      "10.778\n"
     ]
    }
   ],
   "source": [
    "print(round(10.77777))\n",
    "print(round(10.77777,2))\n",
    "print(round(10.77777,3))"
   ]
  },
  {
   "cell_type": "code",
   "execution_count": 13,
   "id": "9faedd73-4d58-4e81-8e0d-ec9605ff63d8",
   "metadata": {},
   "outputs": [
    {
     "name": "stdout",
     "output_type": "stream",
     "text": [
      "20.33\n",
      "20.33\n"
     ]
    }
   ],
   "source": [
    "a=11\n",
    "b=20\n",
    "c=30\n",
    "avg=(a+b+c)/3\n",
    "avg1=round(avg,2)\n",
    "print(avg1)\n",
    "print(round(avg,2))"
   ]
  },
  {
   "cell_type": "code",
   "execution_count": 14,
   "id": "2fba3ea8-274c-484e-adb3-ef2dcd54b265",
   "metadata": {},
   "outputs": [
    {
     "data": {
      "text/plain": [
       "10.78"
      ]
     },
     "execution_count": 14,
     "metadata": {},
     "output_type": "execute_result"
    }
   ],
   "source": [
    "round(10.778,2)"
   ]
  },
  {
   "cell_type": "markdown",
   "id": "a891de03-d8a4-4a6f-ba6e-85e9a6bf68c9",
   "metadata": {},
   "source": [
    "**I have multiple print statements**\n",
    "**but i want to show in single line**"
   ]
  },
  {
   "cell_type": "code",
   "execution_count": 15,
   "id": "708c5f1d-6efa-4e77-9a56-2dfbb14da8fe",
   "metadata": {},
   "outputs": [
    {
     "name": "stdout",
     "output_type": "stream",
     "text": [
      "10\n",
      "20\n"
     ]
    }
   ],
   "source": [
    "print(10)\n",
    "print(20)"
   ]
  },
  {
   "cell_type": "code",
   "execution_count": 16,
   "id": "84a3e6ed-9a3a-4eb4-a8a0-8adccad41338",
   "metadata": {},
   "outputs": [
    {
     "data": {
      "text/plain": [
       "(10, 20)"
      ]
     },
     "execution_count": 16,
     "metadata": {},
     "output_type": "execute_result"
    }
   ],
   "source": [
    "10,20"
   ]
  },
  {
   "cell_type": "code",
   "execution_count": 17,
   "id": "36e5b905-3069-4608-a4da-20ac93f0946f",
   "metadata": {},
   "outputs": [
    {
     "name": "stdout",
     "output_type": "stream",
     "text": [
      "10 20\n"
     ]
    }
   ],
   "source": [
    "print(10,20)"
   ]
  },
  {
   "cell_type": "code",
   "execution_count": 18,
   "id": "bee559f3-d42a-4dee-9194-5eb6b9baad16",
   "metadata": {},
   "outputs": [
    {
     "name": "stdout",
     "output_type": "stream",
     "text": [
      "10====>20\n"
     ]
    }
   ],
   "source": [
    "print(10,end=\"====>\")\n",
    "print(20)"
   ]
  },
  {
   "cell_type": "code",
   "execution_count": 19,
   "id": "6478de7d-6919-4e0a-b912-ef1412772579",
   "metadata": {},
   "outputs": [
    {
     "name": "stdout",
     "output_type": "stream",
     "text": [
      "10 20 30\n"
     ]
    }
   ],
   "source": [
    "print(10,end=\" \")\n",
    "print(20,end=\" \")\n",
    "print(30)"
   ]
  },
  {
   "cell_type": "code",
   "execution_count": 20,
   "id": "ad3ab73d-23b5-40d2-80a3-a1db4b3c70ba",
   "metadata": {},
   "outputs": [
    {
     "name": "stdout",
     "output_type": "stream",
     "text": [
      "hello how are you\n"
     ]
    }
   ],
   "source": [
    "print('hello',end=' ')\n",
    "print('how',end=' ')\n",
    "print('are',end=' ')\n",
    "print('you')"
   ]
  },
  {
   "cell_type": "code",
   "execution_count": 21,
   "id": "a19881c8-cfbb-486a-a097-7a6d1d25e703",
   "metadata": {},
   "outputs": [
    {
     "name": "stdout",
     "output_type": "stream",
     "text": [
      "hello how are you\n"
     ]
    }
   ],
   "source": [
    "print('hello how are you')"
   ]
  },
  {
   "cell_type": "markdown",
   "id": "1593065c-2b4d-425a-b3c8-32b07796811d",
   "metadata": {},
   "source": [
    "**i have multiple values in a single print statement**\n",
    "\n",
    "**i want print them with some seperation**"
   ]
  },
  {
   "cell_type": "code",
   "execution_count": 22,
   "id": "83d8ce93-064a-4700-8d68-9ef71be00bb0",
   "metadata": {},
   "outputs": [
    {
     "name": "stdout",
     "output_type": "stream",
     "text": [
      "10 20 30\n"
     ]
    }
   ],
   "source": [
    "print(10,20,30)\n",
    "# 10 ===> 20 ====> 30"
   ]
  },
  {
   "cell_type": "code",
   "execution_count": 23,
   "id": "7337f289-c4f6-472f-a19a-5ee2a5fdc207",
   "metadata": {},
   "outputs": [
    {
     "name": "stdout",
     "output_type": "stream",
     "text": [
      "10====>20====>30\n"
     ]
    }
   ],
   "source": [
    "print(10,20,30,sep='====>')"
   ]
  },
  {
   "cell_type": "markdown",
   "id": "6cbd03a1-28e0-4f27-a5ac-a84eda3b9864",
   "metadata": {},
   "source": [
    "- basic print statement\n",
    "\n",
    "- we learn format method\n",
    "\n",
    "- we learn f string method\n",
    "\n",
    "- we learn round\n",
    "\n",
    "- we learn end operator\n",
    "\n",
    "- we learn sep operator"
   ]
  },
  {
   "cell_type": "code",
   "execution_count": null,
   "id": "1e03c84f-8e5c-473f-838d-37ecf75ff893",
   "metadata": {},
   "outputs": [],
   "source": [
    "# wap take the radidus of a circle calculate area of the circle\n",
    "# var: radidus  var: pi=3.14\n",
    "# formuale: pi*radius*radius\n",
    "# print the answers using f string and format\n",
    "\n",
    "# wap take the breadth and height of a right angle triangle\n",
    "# calculate the area\n",
    "# var1: bredath  var2: height\n",
    "# formuale : 0.5*breadth*heigh\n",
    "\n",
    "# wap take the bill amount and tip amount\n",
    "# calculate total bill\n",
    "# var1: bill amount var2: tip amount\n",
    "# formuale\n",
    "\n",
    "# wap take the length and breadth of a rectangle calculate area\n",
    "# var1: length  var2: breadth\n",
    "# formulae: length * breadth"
   ]
  }
 ],
 "metadata": {
  "kernelspec": {
   "display_name": "Python 3 (ipykernel)",
   "language": "python",
   "name": "python3"
  },
  "language_info": {
   "codemirror_mode": {
    "name": "ipython",
    "version": 3
   },
   "file_extension": ".py",
   "mimetype": "text/x-python",
   "name": "python",
   "nbconvert_exporter": "python",
   "pygments_lexer": "ipython3",
   "version": "3.12.7"
  }
 },
 "nbformat": 4,
 "nbformat_minor": 5
}
