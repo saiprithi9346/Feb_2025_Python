{
 "cells": [
  {
   "cell_type": "markdown",
   "id": "2c3f7468-e3be-4a38-abf6-23255c6603c6",
   "metadata": {},
   "source": [
    "# type casting"
   ]
  },
  {
   "cell_type": "markdown",
   "id": "7dcaa931-ee63-467d-9beb-09d32c12aa39",
   "metadata": {},
   "source": [
    "- Convert one data type to another data type\n",
    "\n",
    "- we learned 4 data types\n",
    "\n",
    "    - integer: int\n",
    "\n",
    "    - float : float\n",
    "\n",
    "    - boolean: bool\n",
    "\n",
    "    - string: str"
   ]
  },
  {
   "cell_type": "markdown",
   "id": "4c2b9bc4-d1d3-4643-a03c-366952ba4c3a",
   "metadata": {},
   "source": [
    "**int to other data types**"
   ]
  },
  {
   "cell_type": "code",
   "execution_count": 1,
   "id": "ec0fed68-914b-4eb3-890a-64aa4bc845c5",
   "metadata": {},
   "outputs": [
    {
     "data": {
      "text/plain": [
       "int"
      ]
     },
     "execution_count": 1,
     "metadata": {},
     "output_type": "execute_result"
    }
   ],
   "source": [
    "number=100\n",
    "type(number)"
   ]
  },
  {
   "cell_type": "code",
   "execution_count": 2,
   "id": "434b40f6-9490-4de6-8773-d1d3730b5976",
   "metadata": {},
   "outputs": [
    {
     "data": {
      "text/plain": [
       "float"
      ]
     },
     "execution_count": 2,
     "metadata": {},
     "output_type": "execute_result"
    }
   ],
   "source": [
    "float_number=float(number)\n",
    "type(float_number)"
   ]
  },
  {
   "cell_type": "code",
   "execution_count": 3,
   "id": "472a83c9-be9d-4698-a365-f3f9c23d8904",
   "metadata": {},
   "outputs": [
    {
     "data": {
      "text/plain": [
       "bool"
      ]
     },
     "execution_count": 3,
     "metadata": {},
     "output_type": "execute_result"
    }
   ],
   "source": [
    "bool_number=bool(number)\n",
    "type(bool_number)"
   ]
  },
  {
   "cell_type": "code",
   "execution_count": 4,
   "id": "9c4a220c-1a60-448d-8360-0e24da3d59e4",
   "metadata": {},
   "outputs": [
    {
     "data": {
      "text/plain": [
       "str"
      ]
     },
     "execution_count": 4,
     "metadata": {},
     "output_type": "execute_result"
    }
   ],
   "source": [
    "str_number=str(number)\n",
    "type(str_number)"
   ]
  },
  {
   "cell_type": "code",
   "execution_count": 5,
   "id": "ebb4ee64-12ff-4ff8-a4ec-185716d1cd01",
   "metadata": {},
   "outputs": [
    {
     "data": {
      "text/plain": [
       "(100.0, True, '100')"
      ]
     },
     "execution_count": 5,
     "metadata": {},
     "output_type": "execute_result"
    }
   ],
   "source": [
    "float(100),bool(100),str(100)"
   ]
  },
  {
   "cell_type": "code",
   "execution_count": 6,
   "id": "c440ada0-4bf6-4534-86fe-cbb6e8e1bbc5",
   "metadata": {},
   "outputs": [
    {
     "name": "stdout",
     "output_type": "stream",
     "text": [
      "100.0\n",
      "True\n",
      "100\n"
     ]
    }
   ],
   "source": [
    "print(float(100))\n",
    "print(bool(100))\n",
    "print(str(100))"
   ]
  },
  {
   "cell_type": "code",
   "execution_count": 7,
   "id": "f38599c8-33a9-4e09-be7a-b73e8c8b3f80",
   "metadata": {},
   "outputs": [
    {
     "name": "stdout",
     "output_type": "stream",
     "text": [
      "-100.0\n",
      "True\n",
      "-100\n"
     ]
    }
   ],
   "source": [
    "print(float(-100))\n",
    "print(bool(-100))\n",
    "print(str(-100))"
   ]
  },
  {
   "cell_type": "markdown",
   "id": "3a705bb1-df67-4a32-a402-5da35e151a98",
   "metadata": {},
   "source": [
    "- zero means off \n",
    "\n",
    "- False means Off"
   ]
  },
  {
   "cell_type": "code",
   "execution_count": 8,
   "id": "eed4eb70-a908-473d-8f29-f1dc8b9145ad",
   "metadata": {},
   "outputs": [
    {
     "name": "stdout",
     "output_type": "stream",
     "text": [
      "0.0\n",
      "False\n",
      "0\n"
     ]
    }
   ],
   "source": [
    "print(float(0))\n",
    "print(bool(0))\n",
    "print(str(0))"
   ]
  },
  {
   "cell_type": "markdown",
   "id": "aed16623-ea71-4b7f-9c25-df73c3e7e79d",
   "metadata": {},
   "source": [
    "**float to other data types**\n",
    "\n",
    "1.   List item\n",
    "2.   List item"
   ]
  },
  {
   "cell_type": "code",
   "execution_count": 9,
   "id": "37f5a76d-c022-4054-907e-8f5c6fded809",
   "metadata": {},
   "outputs": [
    {
     "data": {
      "text/plain": [
       "100"
      ]
     },
     "execution_count": 9,
     "metadata": {},
     "output_type": "execute_result"
    }
   ],
   "source": [
    "number=100.5\n",
    "int(number)"
   ]
  },
  {
   "cell_type": "code",
   "execution_count": 10,
   "id": "d138ff43-4695-4574-9cfe-14042837e39b",
   "metadata": {},
   "outputs": [
    {
     "data": {
      "text/plain": [
       "True"
      ]
     },
     "execution_count": 10,
     "metadata": {},
     "output_type": "execute_result"
    }
   ],
   "source": [
    "bool(number)"
   ]
  },
  {
   "cell_type": "code",
   "execution_count": 11,
   "id": "2fbae12a-cbc0-456e-b0ed-3785517ed3f3",
   "metadata": {},
   "outputs": [
    {
     "data": {
      "text/plain": [
       "'100.5'"
      ]
     },
     "execution_count": 11,
     "metadata": {},
     "output_type": "execute_result"
    }
   ],
   "source": [
    "str(number)"
   ]
  },
  {
   "cell_type": "code",
   "execution_count": 12,
   "id": "87479240-076c-45a2-b101-9cea8cbc08e2",
   "metadata": {},
   "outputs": [
    {
     "name": "stdout",
     "output_type": "stream",
     "text": [
      "100\n",
      "True\n",
      "100.5\n"
     ]
    }
   ],
   "source": [
    "n1=int(100.5)\n",
    "n2=bool(100.5)\n",
    "n3=str(100.5)\n",
    "print(n1)\n",
    "print(n2)\n",
    "print(n3)"
   ]
  },
  {
   "cell_type": "code",
   "execution_count": 13,
   "id": "7143f42e-3eee-466b-a7bc-8fe1d865ab01",
   "metadata": {},
   "outputs": [
    {
     "name": "stdout",
     "output_type": "stream",
     "text": [
      "0\n",
      "False\n",
      "0.0\n"
     ]
    }
   ],
   "source": [
    "n1=int(0.0)\n",
    "n2=bool(0.0)\n",
    "n3=str(0.0)\n",
    "print(n1)\n",
    "print(n2)\n",
    "print(n3)"
   ]
  },
  {
   "cell_type": "code",
   "execution_count": 14,
   "id": "75be02ba-a1a8-45f0-867b-efc936df548b",
   "metadata": {},
   "outputs": [
    {
     "ename": "ValueError",
     "evalue": "invalid literal for int() with base 10: 'apple'",
     "output_type": "error",
     "traceback": [
      "\u001b[1;31m---------------------------------------------------------------------------\u001b[0m",
      "\u001b[1;31mValueError\u001b[0m                                Traceback (most recent call last)",
      "Cell \u001b[1;32mIn[14], line 1\u001b[0m\n\u001b[1;32m----> 1\u001b[0m \u001b[38;5;28mint\u001b[39m(\u001b[38;5;124m'\u001b[39m\u001b[38;5;124mapple\u001b[39m\u001b[38;5;124m'\u001b[39m) \u001b[38;5;66;03m# fail\u001b[39;00m\n\u001b[0;32m      2\u001b[0m \u001b[38;5;28mfloat\u001b[39m(\u001b[38;5;124m'\u001b[39m\u001b[38;5;124mapple\u001b[39m\u001b[38;5;124m'\u001b[39m) \u001b[38;5;66;03m# fail\u001b[39;00m\n\u001b[0;32m      3\u001b[0m \u001b[38;5;28mbool\u001b[39m(\u001b[38;5;124m'\u001b[39m\u001b[38;5;124mapple\u001b[39m\u001b[38;5;124m'\u001b[39m)\n",
      "\u001b[1;31mValueError\u001b[0m: invalid literal for int() with base 10: 'apple'"
     ]
    }
   ],
   "source": [
    "int('apple') # fail\n",
    "float('apple') # fail\n",
    "bool('apple') # works"
   ]
  },
  {
   "cell_type": "code",
   "execution_count": 15,
   "id": "dc285123-8484-4de4-82a5-e0cd7f99d4c3",
   "metadata": {},
   "outputs": [
    {
     "data": {
      "text/plain": [
       "True"
      ]
     },
     "execution_count": 15,
     "metadata": {},
     "output_type": "execute_result"
    }
   ],
   "source": [
    "bool('apple')"
   ]
  },
  {
   "cell_type": "markdown",
   "id": "27a1f996-b8cc-4b7f-a698-eb99dfede50a",
   "metadata": {},
   "source": [
    "- True : ON some thing is present\n",
    "\n",
    "- False: Off that is not present"
   ]
  },
  {
   "cell_type": "code",
   "execution_count": 16,
   "id": "44011b24-499e-4009-b310-8ed9c159bf28",
   "metadata": {},
   "outputs": [
    {
     "data": {
      "text/plain": [
       "True"
      ]
     },
     "execution_count": 16,
     "metadata": {},
     "output_type": "execute_result"
    }
   ],
   "source": [
    "bool('0')"
   ]
  },
  {
   "cell_type": "code",
   "execution_count": 17,
   "id": "33cc36bc-08c0-4d6c-ab20-060cd0c09236",
   "metadata": {},
   "outputs": [
    {
     "data": {
      "text/plain": [
       "False"
      ]
     },
     "execution_count": 17,
     "metadata": {},
     "output_type": "execute_result"
    }
   ],
   "source": [
    "bool('')"
   ]
  },
  {
   "cell_type": "code",
   "execution_count": 18,
   "id": "2a0918e3-4f41-46e9-983e-4095283fe624",
   "metadata": {},
   "outputs": [
    {
     "data": {
      "text/plain": [
       "5"
      ]
     },
     "execution_count": 18,
     "metadata": {},
     "output_type": "execute_result"
    }
   ],
   "source": [
    "len('apple')"
   ]
  },
  {
   "cell_type": "code",
   "execution_count": 19,
   "id": "3dc5d238-7a8d-45f7-9fbd-53d5163beb17",
   "metadata": {},
   "outputs": [
    {
     "data": {
      "text/plain": [
       "1"
      ]
     },
     "execution_count": 19,
     "metadata": {},
     "output_type": "execute_result"
    }
   ],
   "source": [
    "len('0')"
   ]
  },
  {
   "cell_type": "code",
   "execution_count": 20,
   "id": "5f45d4cf-0ec8-435d-9c88-4bb630383ed7",
   "metadata": {},
   "outputs": [
    {
     "data": {
      "text/plain": [
       "3"
      ]
     },
     "execution_count": 20,
     "metadata": {},
     "output_type": "execute_result"
    }
   ],
   "source": [
    "len('   ')"
   ]
  },
  {
   "cell_type": "markdown",
   "id": "00f08bbe-3b52-4dec-9d27-647ebd59f904",
   "metadata": {},
   "source": [
    "- for number 0 and 0.0 boolean conversion gives **False**\n",
    "\n",
    "- for strings empty boolean conversion gives **False**"
   ]
  },
  {
   "cell_type": "code",
   "execution_count": 21,
   "id": "bef5939a-0c08-4cc6-b7ee-ea3cb074e773",
   "metadata": {},
   "outputs": [
    {
     "data": {
      "text/plain": [
       "10"
      ]
     },
     "execution_count": 21,
     "metadata": {},
     "output_type": "execute_result"
    }
   ],
   "source": [
    "float('10') # works 10.0\n",
    "bool('10')  # works True\n",
    "int('10')   # works  10"
   ]
  },
  {
   "cell_type": "code",
   "execution_count": 22,
   "id": "7d9951f2-c059-421e-a125-7e2105e5a0dc",
   "metadata": {},
   "outputs": [
    {
     "ename": "ValueError",
     "evalue": "could not convert string to float: 'apple'",
     "output_type": "error",
     "traceback": [
      "\u001b[1;31m---------------------------------------------------------------------------\u001b[0m",
      "\u001b[1;31mValueError\u001b[0m                                Traceback (most recent call last)",
      "Cell \u001b[1;32mIn[22], line 1\u001b[0m\n\u001b[1;32m----> 1\u001b[0m \u001b[38;5;28mfloat\u001b[39m(\u001b[38;5;124m'\u001b[39m\u001b[38;5;124mapple\u001b[39m\u001b[38;5;124m'\u001b[39m)  \u001b[38;5;66;03m# fail\u001b[39;00m\n\u001b[0;32m      2\u001b[0m \u001b[38;5;28mfloat\u001b[39m(\u001b[38;5;124m'\u001b[39m\u001b[38;5;124m10\u001b[39m\u001b[38;5;124m'\u001b[39m)\n",
      "\u001b[1;31mValueError\u001b[0m: could not convert string to float: 'apple'"
     ]
    }
   ],
   "source": [
    "float('apple')  # fail\n",
    "float('10')"
   ]
  },
  {
   "cell_type": "markdown",
   "id": "b8e525cf-2b38-4783-9c09-0e241fa7c1d7",
   "metadata": {},
   "source": [
    "**object not callable**\n",
    "\n",
    "- python magic\n",
    "\n",
    "- either you need open new notebook\n",
    "\n",
    "- or go to kernel and restart"
   ]
  },
  {
   "cell_type": "code",
   "execution_count": 23,
   "id": "eba8a978-7647-4cfa-a406-b6394e0be33e",
   "metadata": {},
   "outputs": [
    {
     "data": {
      "text/plain": [
       "(10.0, True, 10)"
      ]
     },
     "execution_count": 23,
     "metadata": {},
     "output_type": "execute_result"
    }
   ],
   "source": [
    "float('10'),bool('10'),int('10')   "
   ]
  },
  {
   "cell_type": "code",
   "execution_count": 24,
   "id": "e9454a33-6a99-43d6-beb9-1809c418b3cc",
   "metadata": {},
   "outputs": [
    {
     "ename": "ValueError",
     "evalue": "invalid literal for int() with base 10: '10.5'",
     "output_type": "error",
     "traceback": [
      "\u001b[1;31m---------------------------------------------------------------------------\u001b[0m",
      "\u001b[1;31mValueError\u001b[0m                                Traceback (most recent call last)",
      "Cell \u001b[1;32mIn[24], line 3\u001b[0m\n\u001b[0;32m      1\u001b[0m \u001b[38;5;28mfloat\u001b[39m(\u001b[38;5;124m'\u001b[39m\u001b[38;5;124m10.5\u001b[39m\u001b[38;5;124m'\u001b[39m) \u001b[38;5;66;03m# w  10.5\u001b[39;00m\n\u001b[0;32m      2\u001b[0m \u001b[38;5;28mbool\u001b[39m(\u001b[38;5;124m'\u001b[39m\u001b[38;5;124m10.5\u001b[39m\u001b[38;5;124m'\u001b[39m)  \u001b[38;5;66;03m# w   True\u001b[39;00m\n\u001b[1;32m----> 3\u001b[0m \u001b[38;5;28mint\u001b[39m(\u001b[38;5;124m'\u001b[39m\u001b[38;5;124m10.5\u001b[39m\u001b[38;5;124m'\u001b[39m)\n",
      "\u001b[1;31mValueError\u001b[0m: invalid literal for int() with base 10: '10.5'"
     ]
    }
   ],
   "source": [
    "float('10.5') # w  10.5\n",
    "bool('10.5')  # w   True\n",
    "int('10.5')   ######### Fail"
   ]
  },
  {
   "cell_type": "markdown",
   "id": "381421c8-bcd9-4356-97b8-fb5362076496",
   "metadata": {},
   "source": [
    "**float is the boss**\n",
    "\n",
    "float('10') # w\n",
    "float('10.5') # w\n",
    "\n",
    "int('10') # w\n",
    "int('10.5') # F"
   ]
  },
  {
   "cell_type": "markdown",
   "id": "8469f1fe-852c-4b69-a5a8-dc04da37174d",
   "metadata": {},
   "source": [
    "**boolean other data types**"
   ]
  },
  {
   "cell_type": "code",
   "execution_count": 25,
   "id": "71371ad0-e7b7-48db-90eb-1d75375a1236",
   "metadata": {},
   "outputs": [
    {
     "name": "stdout",
     "output_type": "stream",
     "text": [
      "1\n",
      "1.0\n",
      "True\n",
      "0\n",
      "0.0\n",
      "False\n"
     ]
    }
   ],
   "source": [
    "print(int(True))  # w  1\n",
    "print(float(True)) # w 1.0\n",
    "print(str(True))  # 'True'\n",
    "print(int(False)) # 0\n",
    "print(float(False)) # 0.0\n",
    "print(str(False)) # 'False'"
   ]
  },
  {
   "cell_type": "code",
   "execution_count": null,
   "id": "67ed8ed2-f190-4ab4-8e7e-2c737cb7a4ec",
   "metadata": {},
   "outputs": [],
   "source": [
    "float(10) # 10.0\n",
    "str(10)   # '10'\n",
    "bool(10)  # T\n",
    "int(10.5) # 10\n",
    "str(10.5) # '10.5'\n",
    "bool(10.5) # T\n",
    "int('apple') # Fail\n",
    "float('apple') # Fail\n",
    "bool('apple') # T\n",
    "int('10') # 10\n",
    "float('10') # 10.0\n",
    "bool('10') # T\n",
    "int('10.5') # F\n",
    "float('10.5') # 10.5\n",
    "bool('10.5') # T\n",
    "int(True) # 1\n",
    "int(False) # 0\n",
    "float(True) # 1.0\n",
    "float(False) # 0.0\n",
    "str(True) # 'True'\n",
    "str(False) # 'False'\n",
    "bool(0)  # False\n",
    "bool(0.0) # False\n",
    "bool('') #False"
   ]
  }
 ],
 "metadata": {
  "kernelspec": {
   "display_name": "Python 3 (ipykernel)",
   "language": "python",
   "name": "python3"
  },
  "language_info": {
   "codemirror_mode": {
    "name": "ipython",
    "version": 3
   },
   "file_extension": ".py",
   "mimetype": "text/x-python",
   "name": "python",
   "nbconvert_exporter": "python",
   "pygments_lexer": "ipython3",
   "version": "3.12.7"
  }
 },
 "nbformat": 4,
 "nbformat_minor": 5
}
