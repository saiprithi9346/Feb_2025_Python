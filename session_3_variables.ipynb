{
 "cells": [
  {
   "cell_type": "markdown",
   "id": "a724b016-785a-434d-9b75-0ad0d6461699",
   "metadata": {},
   "source": [
    "# variables"
   ]
  },
  {
   "cell_type": "markdown",
   "id": "8f9bbe57-32a0-4a5f-b2e8-ab238497962d",
   "metadata": {},
   "source": [
    "- Variables are used to store the data\n",
    "\n",
    "- The Data can be change \n",
    "\n",
    "- These Variables can be use to manipulate python code"
   ]
  },
  {
   "cell_type": "code",
   "execution_count": 1,
   "id": "9c7a2a2b-fce8-4802-94e3-3ef32489a189",
   "metadata": {},
   "outputs": [
    {
     "data": {
      "text/plain": [
       "100"
      ]
     },
     "execution_count": 1,
     "metadata": {},
     "output_type": "execute_result"
    }
   ],
   "source": [
    "number=100\n",
    "# 100 is stored in a variable called as number\n",
    "number"
   ]
  },
  {
   "cell_type": "code",
   "execution_count": 2,
   "id": "cff05566-d666-46a6-9858-7811a33d9677",
   "metadata": {},
   "outputs": [
    {
     "data": {
      "text/plain": [
       "200"
      ]
     },
     "execution_count": 2,
     "metadata": {},
     "output_type": "execute_result"
    }
   ],
   "source": [
    "NUMBER=200\n",
    "NUMBER"
   ]
  },
  {
   "cell_type": "code",
   "execution_count": 3,
   "id": "edfaca4e-1020-47a1-94d8-2c7a81befe5e",
   "metadata": {},
   "outputs": [
    {
     "data": {
      "text/plain": [
       "(100, 200)"
      ]
     },
     "execution_count": 3,
     "metadata": {},
     "output_type": "execute_result"
    }
   ],
   "source": [
    "number,NUMBER"
   ]
  },
  {
   "cell_type": "code",
   "execution_count": 4,
   "id": "1c84cb0a-9227-4833-af18-b9e0f6155683",
   "metadata": {},
   "outputs": [
    {
     "data": {
      "text/plain": [
       "300"
      ]
     },
     "execution_count": 4,
     "metadata": {},
     "output_type": "execute_result"
    }
   ],
   "source": [
    "NUMber=300\n",
    "NUMber"
   ]
  },
  {
   "cell_type": "code",
   "execution_count": 5,
   "id": "76fe9339-a7bd-4908-bfdb-75aa5027536c",
   "metadata": {},
   "outputs": [
    {
     "data": {
      "text/plain": [
       "(100, 200, 300)"
      ]
     },
     "execution_count": 5,
     "metadata": {},
     "output_type": "execute_result"
    }
   ],
   "source": [
    "number,NUMBER,NUMber"
   ]
  },
  {
   "cell_type": "code",
   "execution_count": 6,
   "id": "0ed783c6-400b-4bdb-95fd-cc184d7ffc06",
   "metadata": {},
   "outputs": [
    {
     "data": {
      "text/plain": [
       "400"
      ]
     },
     "execution_count": 6,
     "metadata": {},
     "output_type": "execute_result"
    }
   ],
   "source": [
    "number123=400\n",
    "number123"
   ]
  },
  {
   "cell_type": "code",
   "execution_count": 7,
   "id": "53e7a4fb-7af1-4bfb-b972-767519d26ee9",
   "metadata": {},
   "outputs": [
    {
     "ename": "SyntaxError",
     "evalue": "invalid decimal literal (1181908654.py, line 1)",
     "output_type": "error",
     "traceback": [
      "\u001b[1;36m  Cell \u001b[1;32mIn[7], line 1\u001b[1;36m\u001b[0m\n\u001b[1;33m    123number=500\u001b[0m\n\u001b[1;37m      ^\u001b[0m\n\u001b[1;31mSyntaxError\u001b[0m\u001b[1;31m:\u001b[0m invalid decimal literal\n"
     ]
    }
   ],
   "source": [
    "123number=500\n",
    "123number"
   ]
  },
  {
   "cell_type": "code",
   "execution_count": 8,
   "id": "f436060c-5645-4b45-9432-22846198ece5",
   "metadata": {},
   "outputs": [
    {
     "data": {
      "text/plain": [
       "400"
      ]
     },
     "execution_count": 8,
     "metadata": {},
     "output_type": "execute_result"
    }
   ],
   "source": [
    "# type first two letter enter tab\n",
    "number\n",
    "number123"
   ]
  },
  {
   "cell_type": "markdown",
   "id": "d055e3a9-5beb-49df-a3ef-8be84954e6ab",
   "metadata": {},
   "source": [
    "**Note**:\n",
    "\n",
    "- Variables generally in black color\n",
    "\n",
    "- Green color should not be a variables\n",
    "\n",
    "- numbers as suffix can work\n",
    "\n",
    "- numbers as prefix fail"
   ]
  },
  {
   "cell_type": "code",
   "execution_count": 9,
   "id": "3fcb7de4-66f8-46c5-9082-7f8045a43500",
   "metadata": {},
   "outputs": [
    {
     "ename": "SyntaxError",
     "evalue": "invalid syntax (988349833.py, line 1)",
     "output_type": "error",
     "traceback": [
      "\u001b[1;36m  Cell \u001b[1;32mIn[9], line 1\u001b[1;36m\u001b[0m\n\u001b[1;33m    number$=600\u001b[0m\n\u001b[1;37m          ^\u001b[0m\n\u001b[1;31mSyntaxError\u001b[0m\u001b[1;31m:\u001b[0m invalid syntax\n"
     ]
    }
   ],
   "source": [
    "number$=600\n",
    "number$"
   ]
  },
  {
   "cell_type": "code",
   "execution_count": 10,
   "id": "51493cb1-c9d3-44cb-b152-cba34052ccc6",
   "metadata": {},
   "outputs": [
    {
     "data": {
      "text/plain": [
       "300"
      ]
     },
     "execution_count": 10,
     "metadata": {},
     "output_type": "execute_result"
    }
   ],
   "source": [
    "number_one=300\n",
    "number_one"
   ]
  },
  {
   "cell_type": "code",
   "execution_count": 11,
   "id": "761c9e39-e598-4b18-9875-11f46b38657e",
   "metadata": {},
   "outputs": [
    {
     "ename": "NameError",
     "evalue": "name 'numberone' is not defined",
     "output_type": "error",
     "traceback": [
      "\u001b[1;31m---------------------------------------------------------------------------\u001b[0m",
      "\u001b[1;31mNameError\u001b[0m                                 Traceback (most recent call last)",
      "Cell \u001b[1;32mIn[11], line 1\u001b[0m\n\u001b[1;32m----> 1\u001b[0m numberone\n\u001b[0;32m      2\u001b[0m number_one\n",
      "\u001b[1;31mNameError\u001b[0m: name 'numberone' is not defined"
     ]
    }
   ],
   "source": [
    "numberone\n",
    "number_one"
   ]
  },
  {
   "cell_type": "code",
   "execution_count": 13,
   "id": "2b170ea5-233a-4199-82dc-a8b0923cd56c",
   "metadata": {},
   "outputs": [
    {
     "data": {
      "text/plain": [
       "1000"
      ]
     },
     "execution_count": 13,
     "metadata": {},
     "output_type": "execute_result"
    }
   ],
   "source": [
    "_=1000\n",
    "_"
   ]
  },
  {
   "cell_type": "code",
   "execution_count": null,
   "id": "cbd6edfa-ef78-4966-8379-be1450b3255f",
   "metadata": {},
   "outputs": [],
   "source": [
    "number=100  # w\n",
    "NUMBER=200 # w\n",
    "NUMber=300 # w\n",
    "number123=400 # w\n",
    "123number=500 # f\n",
    "number%=600 # f\n",
    "number one=700 # f\n",
    "number_one=800 # w \n",
    "_=900# w"
   ]
  },
  {
   "cell_type": "code",
   "execution_count": 14,
   "id": "27d610cc-9669-4e1c-b49b-6d79abb03329",
   "metadata": {},
   "outputs": [
    {
     "ename": "SyntaxError",
     "evalue": "invalid syntax (4067401087.py, line 1)",
     "output_type": "error",
     "traceback": [
      "\u001b[1;36m  Cell \u001b[1;32mIn[14], line 1\u001b[1;36m\u001b[0m\n\u001b[1;33m    if=1000\u001b[0m\n\u001b[1;37m      ^\u001b[0m\n\u001b[1;31mSyntaxError\u001b[0m\u001b[1;31m:\u001b[0m invalid syntax\n"
     ]
    }
   ],
   "source": [
    "if=1000"
   ]
  },
  {
   "cell_type": "code",
   "execution_count": null,
   "id": "daaefc5f-4156-464c-8773-5a9e9a7ca0b5",
   "metadata": {},
   "outputs": [],
   "source": [
    "for\n",
    "while\n",
    "True\n",
    "False"
   ]
  },
  {
   "cell_type": "markdown",
   "id": "a866d509-3bf6-4bcd-a36d-d182c84cdb56",
   "metadata": {},
   "source": [
    "**keywords can not use as Varibales**"
   ]
  },
  {
   "cell_type": "code",
   "execution_count": null,
   "id": "d51e896b-605f-436e-ac66-2ae36bed452a",
   "metadata": {},
   "outputs": [],
   "source": []
  }
 ],
 "metadata": {
  "kernelspec": {
   "display_name": "Python 3 (ipykernel)",
   "language": "python",
   "name": "python3"
  },
  "language_info": {
   "codemirror_mode": {
    "name": "ipython",
    "version": 3
   },
   "file_extension": ".py",
   "mimetype": "text/x-python",
   "name": "python",
   "nbconvert_exporter": "python",
   "pygments_lexer": "ipython3",
   "version": "3.12.7"
  }
 },
 "nbformat": 4,
 "nbformat_minor": 5
}
