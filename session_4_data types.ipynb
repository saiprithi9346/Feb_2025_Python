{
 "cells": [
  {
   "cell_type": "markdown",
   "id": "628e951f-84a7-48b0-8430-983cfe437a88",
   "metadata": {},
   "source": [
    "**Data types**"
   ]
  },
  {
   "cell_type": "markdown",
   "id": "74f460a5-1069-4754-99b8-8efd0459afcb",
   "metadata": {},
   "source": [
    "- integer : int\n",
    "\n",
    "- float\n",
    "\n",
    "- string\n",
    "\n",
    "- list\n",
    "\n",
    "- tuple\n",
    "\n",
    "- set\n",
    "\n",
    "    - frozen set\n",
    "\n",
    "- dictionary\n",
    "\n",
    "- bool\n",
    "\n",
    "- complex\n",
    "\n",
    "- range\n",
    "\n",
    "- byte\n",
    "\n",
    "- byte array\n",
    "\n",
    "- memory view\n",
    "\n",
    "- None type"
   ]
  },
  {
   "cell_type": "markdown",
   "id": "2100836e-a090-436e-8a6d-c1f419e2992b",
   "metadata": {},
   "source": [
    "- myth\n",
    "\n",
    "    - only 14-15 data type available "
   ]
  },
  {
   "cell_type": "markdown",
   "id": "45058a95-b32d-42d8-b066-d912a4d21403",
   "metadata": {},
   "source": [
    "**integer**"
   ]
  },
  {
   "cell_type": "code",
   "execution_count": 1,
   "id": "45d69c96-e401-494a-b4ce-1665e248724f",
   "metadata": {},
   "outputs": [
    {
     "data": {
      "text/plain": [
       "100"
      ]
     },
     "execution_count": 1,
     "metadata": {},
     "output_type": "execute_result"
    }
   ],
   "source": [
    "number=100\n",
    "number"
   ]
  },
  {
   "cell_type": "code",
   "execution_count": 2,
   "id": "9f55311b-3c5e-4a30-b381-472b3148b472",
   "metadata": {},
   "outputs": [
    {
     "data": {
      "text/plain": [
       "int"
      ]
     },
     "execution_count": 2,
     "metadata": {},
     "output_type": "execute_result"
    }
   ],
   "source": [
    "type(number)"
   ]
  },
  {
   "cell_type": "markdown",
   "id": "753077c0-279e-414a-b076-8121ad7a1bad",
   "metadata": {},
   "source": [
    "**numbers system**\n",
    "\n",
    "- Binary number system\n",
    "\n",
    "- Decimal number system\n",
    "\n",
    "- Octa number system\n",
    "\n",
    "- hexa number system"
   ]
  },
  {
   "cell_type": "code",
   "execution_count": 3,
   "id": "2854ea1e-ccef-4900-a96c-abc0950c6c44",
   "metadata": {},
   "outputs": [
    {
     "data": {
      "text/plain": [
       "2025"
      ]
     },
     "execution_count": 3,
     "metadata": {},
     "output_type": "execute_result"
    }
   ],
   "source": [
    "9*9\n",
    "5*5\n",
    "81*25"
   ]
  },
  {
   "cell_type": "code",
   "execution_count": 4,
   "id": "7cbc5b8c-82f5-4b29-9797-22322e24507d",
   "metadata": {},
   "outputs": [
    {
     "data": {
      "text/plain": [
       "2025"
      ]
     },
     "execution_count": 4,
     "metadata": {},
     "output_type": "execute_result"
    }
   ],
   "source": [
    "40*40+20*20+5*5"
   ]
  },
  {
   "cell_type": "code",
   "execution_count": 5,
   "id": "78aa3a39-3aa6-4ff4-b4e1-f0706ac64a84",
   "metadata": {},
   "outputs": [
    {
     "data": {
      "text/plain": [
       "2025"
      ]
     },
     "execution_count": 5,
     "metadata": {},
     "output_type": "execute_result"
    }
   ],
   "source": [
    "sum([i**3 for i in range(1,10)])"
   ]
  },
  {
   "cell_type": "markdown",
   "id": "44f040e8-f0d7-4f3c-8c32-fab266f9d63a",
   "metadata": {},
   "source": [
    "**Binary number system**\n",
    "\n",
    "- it is denoted with **0b**  or **0B**\n",
    "\n",
    "- Binary means two\n",
    "\n",
    "- we have generally 0 to 9 digits available \n",
    "\n",
    "- binary means only twi digits allowed : 0 and 1\n",
    "\n",
    "- ex: 0b101 0b111 0b000  0B001\n",
    "\n",
    "- not valid : 0b123   0B1000012"
   ]
  },
  {
   "cell_type": "code",
   "execution_count": 6,
   "id": "25b7adda-96a4-4c57-a00f-99137e900a3c",
   "metadata": {},
   "outputs": [
    {
     "data": {
      "text/plain": [
       "(7, 5)"
      ]
     },
     "execution_count": 6,
     "metadata": {},
     "output_type": "execute_result"
    }
   ],
   "source": [
    "0b111,0b101"
   ]
  },
  {
   "cell_type": "code",
   "execution_count": 7,
   "id": "94615480-eb35-43a4-91dc-ce2ad4c71a28",
   "metadata": {},
   "outputs": [
    {
     "data": {
      "text/plain": [
       "29"
      ]
     },
     "execution_count": 7,
     "metadata": {},
     "output_type": "execute_result"
    }
   ],
   "source": [
    "0b11101"
   ]
  },
  {
   "cell_type": "code",
   "execution_count": 8,
   "id": "4ec36617-b63d-4717-a5ca-21622d9adced",
   "metadata": {},
   "outputs": [
    {
     "ename": "SyntaxError",
     "evalue": "invalid syntax (1279094499.py, line 1)",
     "output_type": "error",
     "traceback": [
      "\u001b[1;36m  Cell \u001b[1;32mIn[8], line 1\u001b[1;36m\u001b[0m\n\u001b[1;33m    2^2   2^1    2^0\u001b[0m\n\u001b[1;37m          ^\u001b[0m\n\u001b[1;31mSyntaxError\u001b[0m\u001b[1;31m:\u001b[0m invalid syntax\n"
     ]
    }
   ],
   "source": [
    "2^2   2^1    2^0\n",
    "4      2      1\n",
    "##################################\n",
    "0      0      0     0\n",
    "0      0      1     1\n",
    "0      1      0     2\n",
    "0      1      1     3\n",
    "1      0      0     4\n",
    "1      0      1     5\n",
    "1      1      0     6\n",
    "1      1      1     7"
   ]
  },
  {
   "cell_type": "code",
   "execution_count": null,
   "id": "fd39202d-1209-4db4-8710-318d141ef69f",
   "metadata": {},
   "outputs": [],
   "source": [
    "2^3   2^2   2^1    2^0\n",
    "8     4      2      1\n",
    "    ##################################\n",
    "0   0      0      0     0\n",
    "0   0      0      1     1\n",
    "0   0      1      0     2\n",
    "0   0      1      1     3\n",
    "0   1      0      0     4\n",
    "0   1      0      1     5\n",
    "0   1      1      0     6\n",
    "0   1      1      1     7\n",
    "1   0      0      0     8\n",
    "1   0      0      1     9\n",
    "1   0      1      0     10\n",
    "1   0      1      1     11\n",
    "1   1      0      0     12\n",
    "1   1      0      1     13\n",
    "1   1      1      0     14\n",
    "1   1      1      1     15"
   ]
  },
  {
   "cell_type": "markdown",
   "id": "ec3cb78a-73cc-4513-8fd0-286d2d026dee",
   "metadata": {},
   "source": [
    "**octa number system**\n",
    "\n",
    "- it is denoted with **0o**  or **0O**\n",
    "\n",
    "- octa means 8\n",
    "\n",
    "- we have generally 0 to 8 digits available \n",
    "\n",
    "- octa means  allowed : 0 1 2 3 4 5 6 7\n",
    "\n",
    "- ex: 0o567 0o111 0o001  0O672\n",
    "\n",
    "- not valid : 0o768   0O169"
   ]
  },
  {
   "cell_type": "code",
   "execution_count": 9,
   "id": "89d55273-fe5b-4701-a6ae-bf23456618a6",
   "metadata": {},
   "outputs": [
    {
     "data": {
      "text/plain": [
       "83"
      ]
     },
     "execution_count": 9,
     "metadata": {},
     "output_type": "execute_result"
    }
   ],
   "source": [
    "0o123\n"
   ]
  },
  {
   "cell_type": "markdown",
   "id": "15ae91b7-4010-4334-845c-766bca6a10cd",
   "metadata": {},
   "source": [
    "**hexa number system**\n",
    "\n",
    "- it is denoted with **0x**  or **0X**\n",
    "\n",
    "- hexa means 16\n",
    "\n",
    "- we have generally 0 to 9 digits available \n",
    "\n",
    "- hexa means only twi digits allowed : 0 to 9 A to F\n",
    "\n",
    "- A: 10   B:11  C: 12  D: 13  E: 14  F:15\n",
    "\n",
    "- ex: 0xabc  0XA1\n",
    "\n",
    "- not valid : 0xefg   "
   ]
  },
  {
   "cell_type": "code",
   "execution_count": 10,
   "id": "8bb26464-460a-4e19-a19b-00047bd8bf42",
   "metadata": {},
   "outputs": [
    {
     "data": {
      "text/plain": [
       "2748"
      ]
     },
     "execution_count": 10,
     "metadata": {},
     "output_type": "execute_result"
    }
   ],
   "source": [
    "0xabc\n"
   ]
  },
  {
   "cell_type": "markdown",
   "id": "111e9f58-4791-4666-8cc2-d69b17c9ed15",
   "metadata": {},
   "source": [
    "**2025**\n",
    "\n",
    "- binary\n",
    "\n",
    "- oct\n",
    "\n",
    "- hexa"
   ]
  },
  {
   "cell_type": "code",
   "execution_count": 11,
   "id": "fa6d25e9-fb06-4a5b-a5e1-11379eaf161d",
   "metadata": {},
   "outputs": [
    {
     "data": {
      "text/plain": [
       "2025"
      ]
     },
     "execution_count": 11,
     "metadata": {},
     "output_type": "execute_result"
    }
   ],
   "source": [
    "0b11111101001"
   ]
  },
  {
   "cell_type": "code",
   "execution_count": 12,
   "id": "d03a785f-e1c2-415c-8616-912f366ce916",
   "metadata": {},
   "outputs": [
    {
     "data": {
      "text/plain": [
       "2025"
      ]
     },
     "execution_count": 12,
     "metadata": {},
     "output_type": "execute_result"
    }
   ],
   "source": [
    "0b11111101001"
   ]
  },
  {
   "cell_type": "code",
   "execution_count": 13,
   "id": "aa564676-9e54-4d78-91c5-abc4d36a101d",
   "metadata": {},
   "outputs": [
    {
     "data": {
      "text/plain": [
       "(2025, 2025)"
      ]
     },
     "execution_count": 13,
     "metadata": {},
     "output_type": "execute_result"
    }
   ],
   "source": [
    "0X7E9,0o3751"
   ]
  },
  {
   "cell_type": "code",
   "execution_count": 14,
   "id": "5c08bcbc-6293-4f2d-8b58-c965513a25e0",
   "metadata": {},
   "outputs": [
    {
     "data": {
      "text/plain": [
       "float"
      ]
     },
     "execution_count": 14,
     "metadata": {},
     "output_type": "execute_result"
    }
   ],
   "source": [
    "number=10.5\n",
    "type(number)"
   ]
  },
  {
   "cell_type": "markdown",
   "id": "82388284-6446-4d4a-821f-308305e1cd2f",
   "metadata": {},
   "source": [
    "**e represntation**"
   ]
  },
  {
   "cell_type": "code",
   "execution_count": 15,
   "id": "e41177d0-a4c2-4044-98f3-f9a5fe75042b",
   "metadata": {},
   "outputs": [
    {
     "data": {
      "text/plain": [
       "10.0"
      ]
     },
     "execution_count": 15,
     "metadata": {},
     "output_type": "execute_result"
    }
   ],
   "source": [
    "1e1"
   ]
  },
  {
   "cell_type": "code",
   "execution_count": 16,
   "id": "6611c117-05c3-413d-9b85-4b64d529fc1b",
   "metadata": {},
   "outputs": [
    {
     "data": {
      "text/plain": [
       "100.0"
      ]
     },
     "execution_count": 16,
     "metadata": {},
     "output_type": "execute_result"
    }
   ],
   "source": [
    "1e2"
   ]
  },
  {
   "cell_type": "code",
   "execution_count": 17,
   "id": "e24f4293-6973-48bb-a9df-24a43049ea53",
   "metadata": {},
   "outputs": [
    {
     "data": {
      "text/plain": [
       "1000.0"
      ]
     },
     "execution_count": 17,
     "metadata": {},
     "output_type": "execute_result"
    }
   ],
   "source": [
    "1e3 # 1*1000"
   ]
  },
  {
   "cell_type": "code",
   "execution_count": 18,
   "id": "519d8c61-50f3-413b-940c-21460b7f6806",
   "metadata": {},
   "outputs": [
    {
     "data": {
      "text/plain": [
       "20000.0"
      ]
     },
     "execution_count": 18,
     "metadata": {},
     "output_type": "execute_result"
    }
   ],
   "source": [
    "2e4   # 2* 10000"
   ]
  },
  {
   "cell_type": "code",
   "execution_count": null,
   "id": "dd7f4000-1d41-490b-b457-74e3258efc9f",
   "metadata": {},
   "outputs": [],
   "source": [
    "1e1   # 1*10=10\n",
    "1e2   # 1*100=100\n",
    "2e3   # 2*1000=2000\n",
    "4e4   # 4*10000=40000"
   ]
  },
  {
   "cell_type": "code",
   "execution_count": 19,
   "id": "95d86004-f00c-4046-b4b2-6ca65188ff48",
   "metadata": {},
   "outputs": [
    {
     "name": "stdout",
     "output_type": "stream",
     "text": [
      "0.1\n",
      "0.01\n",
      "0.002\n",
      "0.0004\n"
     ]
    }
   ],
   "source": [
    "print(1e-1)   # 1/10=0.1\n",
    "print(1e-2)   # 1/100=0.01\n",
    "print(2e-3)   # 2/1000=0.002\n",
    "print(4e-4)   # 4/10000=0.0004"
   ]
  },
  {
   "cell_type": "code",
   "execution_count": 20,
   "id": "6d6ed988-09f9-4a75-aabf-88aa0b419c8a",
   "metadata": {},
   "outputs": [],
   "source": [
    "# integer data type\n",
    "# float data type"
   ]
  },
  {
   "cell_type": "code",
   "execution_count": 21,
   "id": "ab24b9ce-8db0-4261-863f-3c1fdb2afe6a",
   "metadata": {},
   "outputs": [
    {
     "data": {
      "text/plain": [
       "True"
      ]
     },
     "execution_count": 21,
     "metadata": {},
     "output_type": "execute_result"
    }
   ],
   "source": [
    "val=True\n",
    "val"
   ]
  },
  {
   "cell_type": "code",
   "execution_count": 22,
   "id": "c538740e-0f3d-40b8-87e2-0e32bbef43cd",
   "metadata": {},
   "outputs": [
    {
     "data": {
      "text/plain": [
       "bool"
      ]
     },
     "execution_count": 22,
     "metadata": {},
     "output_type": "execute_result"
    }
   ],
   "source": [
    "type(val)"
   ]
  },
  {
   "cell_type": "code",
   "execution_count": 23,
   "id": "a4b421ed-6af2-46d6-8460-d5a853e3752d",
   "metadata": {},
   "outputs": [
    {
     "data": {
      "text/plain": [
       "bool"
      ]
     },
     "execution_count": 23,
     "metadata": {},
     "output_type": "execute_result"
    }
   ],
   "source": [
    "val1=False\n",
    "type(val1)"
   ]
  },
  {
   "cell_type": "markdown",
   "id": "53e87b86-928c-4d06-bbb8-23b8bbec672a",
   "metadata": {},
   "source": [
    "**Strings**"
   ]
  },
  {
   "cell_type": "markdown",
   "id": "7a0d978b-1016-4056-9837-4b89e70b7616",
   "metadata": {},
   "source": [
    "- English format representation\n",
    "\n",
    "- strings represent with quotes\n",
    "\n",
    "- we can use single quotes, double quotes also triple quotes"
   ]
  },
  {
   "cell_type": "code",
   "execution_count": 24,
   "id": "5d523886-786e-47ed-a2c7-dc9ea0ff1813",
   "metadata": {},
   "outputs": [
    {
     "data": {
      "text/plain": [
       "'python'"
      ]
     },
     "execution_count": 24,
     "metadata": {},
     "output_type": "execute_result"
    }
   ],
   "source": [
    "name='python'\n",
    "name"
   ]
  },
  {
   "cell_type": "code",
   "execution_count": 25,
   "id": "a32526f5-3318-4025-9d62-c6bec59f7034",
   "metadata": {},
   "outputs": [
    {
     "data": {
      "text/plain": [
       "str"
      ]
     },
     "execution_count": 25,
     "metadata": {},
     "output_type": "execute_result"
    }
   ],
   "source": [
    "type(name)"
   ]
  },
  {
   "cell_type": "code",
   "execution_count": 26,
   "id": "03c066f7-5bde-4ee1-84fb-5ad39535a623",
   "metadata": {},
   "outputs": [
    {
     "name": "stdout",
     "output_type": "stream",
     "text": [
      "python\n"
     ]
    }
   ],
   "source": [
    "print(name)\n",
    "# when we print we will not able to see the quotes"
   ]
  },
  {
   "cell_type": "code",
   "execution_count": 27,
   "id": "135014ea-29c1-4ad3-9fcf-e7ec7026d85b",
   "metadata": {},
   "outputs": [
    {
     "data": {
      "text/plain": [
       "str"
      ]
     },
     "execution_count": 27,
     "metadata": {},
     "output_type": "execute_result"
    }
   ],
   "source": [
    "val='10'\n",
    "type(val)\n",
    "\n"
   ]
  },
  {
   "cell_type": "code",
   "execution_count": 28,
   "id": "9dcf74d4-d0f6-4156-be0e-1d38c6bed3c8",
   "metadata": {},
   "outputs": [
    {
     "data": {
      "text/plain": [
       "int"
      ]
     },
     "execution_count": 28,
     "metadata": {},
     "output_type": "execute_result"
    }
   ],
   "source": [
    "val1=10\n",
    "type(val1)"
   ]
  },
  {
   "cell_type": "code",
   "execution_count": 29,
   "id": "fd43e976-f6b7-4bc7-8ef6-6da731368310",
   "metadata": {},
   "outputs": [
    {
     "data": {
      "text/plain": [
       "'naresh it'"
      ]
     },
     "execution_count": 29,
     "metadata": {},
     "output_type": "execute_result"
    }
   ],
   "source": [
    "name=\"naresh it\"\n",
    "name\n",
    "# but the output displayed as single quotes"
   ]
  },
  {
   "cell_type": "code",
   "execution_count": 30,
   "id": "9445c341-00f1-4225-b6bf-bc0df0ade197",
   "metadata": {},
   "outputs": [
    {
     "data": {
      "text/plain": [
       "str"
      ]
     },
     "execution_count": 30,
     "metadata": {},
     "output_type": "execute_result"
    }
   ],
   "source": [
    "type(name)"
   ]
  },
  {
   "cell_type": "code",
   "execution_count": 31,
   "id": "f6197979-5642-492c-b07b-de00b1a0cfc2",
   "metadata": {},
   "outputs": [
    {
     "name": "stdout",
     "output_type": "stream",
     "text": [
      "naresh it\n"
     ]
    }
   ],
   "source": [
    "print(name)"
   ]
  },
  {
   "cell_type": "code",
   "execution_count": 32,
   "id": "3286d56a-3807-4a65-8d3a-87b47f0e361b",
   "metadata": {},
   "outputs": [
    {
     "name": "stdout",
     "output_type": "stream",
     "text": [
      "i love 'python'\n"
     ]
    }
   ],
   "source": [
    "str1=\"i love 'python'\"\n",
    "print(str1)"
   ]
  },
  {
   "cell_type": "code",
   "execution_count": 33,
   "id": "baf66ba3-20d3-4032-a5eb-8f9170f59584",
   "metadata": {},
   "outputs": [
    {
     "name": "stdout",
     "output_type": "stream",
     "text": [
      "i love \"python\"\n"
     ]
    }
   ],
   "source": [
    "str1='i love \"python\"'\n",
    "print(str1)"
   ]
  },
  {
   "cell_type": "markdown",
   "id": "926b80e7-521e-4fdf-832e-c225fa70b2ac",
   "metadata": {},
   "source": [
    "- Keep entire string in Double quotes then highlite the word with single quote vice versa"
   ]
  },
  {
   "cell_type": "markdown",
   "id": "e52c54af-23fe-4f1a-8d02-d922599be514",
   "metadata": {},
   "source": [
    "**triple quotes**\n",
    "\n",
    "- triple quotes can not use in coding part\n",
    "\n",
    "- triple quotes means conveying the inforamtion\n",
    "\n",
    "- this is process is called as **Doc string**\n",
    "\n",
    "- in jupyter notebook we have markdown option\n",
    "\n",
    "- but in vscode or pycharm there is no markdown option\n",
    "\n",
    "- so user will convey the information by providing triple quotes"
   ]
  },
  {
   "cell_type": "code",
   "execution_count": 34,
   "id": "6b923a62-748e-488d-81ce-094f894cbe7b",
   "metadata": {},
   "outputs": [
    {
     "data": {
      "text/plain": [
       "'hai \\ntoday im learning python\\nits easy'"
      ]
     },
     "execution_count": 34,
     "metadata": {},
     "output_type": "execute_result"
    }
   ],
   "source": [
    "\"\"\"hai \n",
    "today im learning python\n",
    "its easy\"\"\""
   ]
  },
  {
   "cell_type": "code",
   "execution_count": null,
   "id": "cd11591b-412e-4729-8f02-75abe84df450",
   "metadata": {},
   "outputs": [],
   "source": [
    "true=True  # works\n",
    "true='True' # w\n",
    "true=10.5 # w\n",
    "True=10 # f \n",
    "True=True # f"
   ]
  },
  {
   "cell_type": "code",
   "execution_count": 35,
   "id": "8f4c32f5-4b78-450e-b051-e09370e21a46",
   "metadata": {},
   "outputs": [
    {
     "ename": "SyntaxError",
     "evalue": "cannot assign to True (2941772833.py, line 1)",
     "output_type": "error",
     "traceback": [
      "\u001b[1;36m  Cell \u001b[1;32mIn[35], line 1\u001b[1;36m\u001b[0m\n\u001b[1;33m    True=10\u001b[0m\n\u001b[1;37m    ^\u001b[0m\n\u001b[1;31mSyntaxError\u001b[0m\u001b[1;31m:\u001b[0m cannot assign to True\n"
     ]
    }
   ],
   "source": [
    "True=10"
   ]
  },
  {
   "cell_type": "code",
   "execution_count": 36,
   "id": "4d1682ad-5fca-40b4-9abb-1c2d69ef2209",
   "metadata": {},
   "outputs": [
    {
     "ename": "SyntaxError",
     "evalue": "cannot assign to True (2826156406.py, line 1)",
     "output_type": "error",
     "traceback": [
      "\u001b[1;36m  Cell \u001b[1;32mIn[36], line 1\u001b[1;36m\u001b[0m\n\u001b[1;33m    True=True\u001b[0m\n\u001b[1;37m    ^\u001b[0m\n\u001b[1;31mSyntaxError\u001b[0m\u001b[1;31m:\u001b[0m cannot assign to True\n"
     ]
    }
   ],
   "source": [
    "True=True"
   ]
  },
  {
   "cell_type": "code",
   "execution_count": null,
   "id": "048df540-bff7-4141-8b02-df449710a69f",
   "metadata": {},
   "outputs": [],
   "source": []
  }
 ],
 "metadata": {
  "kernelspec": {
   "display_name": "Python 3 (ipykernel)",
   "language": "python",
   "name": "python3"
  },
  "language_info": {
   "codemirror_mode": {
    "name": "ipython",
    "version": 3
   },
   "file_extension": ".py",
   "mimetype": "text/x-python",
   "name": "python",
   "nbconvert_exporter": "python",
   "pygments_lexer": "ipython3",
   "version": "3.12.7"
  }
 },
 "nbformat": 4,
 "nbformat_minor": 5
}
